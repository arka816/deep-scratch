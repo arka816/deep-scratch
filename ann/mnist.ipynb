{
 "cells": [
  {
   "cell_type": "code",
   "execution_count": 24,
   "id": "67bb0f01",
   "metadata": {},
   "outputs": [],
   "source": [
    "%reload_ext autoreload\n",
    "%autoreload 2"
   ]
  },
  {
   "cell_type": "code",
   "execution_count": 2,
   "id": "92064835",
   "metadata": {},
   "outputs": [],
   "source": [
    "import network"
   ]
  },
  {
   "cell_type": "code",
   "execution_count": 3,
   "id": "58111e52",
   "metadata": {},
   "outputs": [],
   "source": [
    "import gzip\n",
    "import matplotlib.pyplot as plt\n",
    "import numpy as np\n",
    "import pandas as pd"
   ]
  },
  {
   "cell_type": "code",
   "execution_count": 4,
   "id": "6b98a213",
   "metadata": {},
   "outputs": [],
   "source": [
    "f = gzip.open('../samples/train-images-idx3-ubyte.gz','r')\n",
    "\n",
    "image_size = 28\n",
    "num_images = 100\n",
    "total_images = 60000\n",
    "\n",
    "f.read(16)\n",
    "\n",
    "X = np.empty(shape=(1, image_size, image_size))\n",
    "\n",
    "for i in range(total_images // num_images):\n",
    "    buf = f.read(image_size * image_size * num_images)\n",
    "    data = np.frombuffer(buf, dtype=np.uint8).astype(np.float32)\n",
    "    data = data.reshape(num_images, image_size, image_size)    \n",
    "    X = np.concatenate((X, data), axis = 0)"
   ]
  },
  {
   "cell_type": "code",
   "execution_count": 5,
   "id": "720a97d6",
   "metadata": {},
   "outputs": [
    {
     "name": "stdout",
     "output_type": "stream",
     "text": [
      "[0 5 0 ... 5 6 8]\n"
     ]
    }
   ],
   "source": [
    "f = gzip.open('../samples/train-labels-idx1-ubyte.gz','r')\n",
    "f.read(8)\n",
    "\n",
    "y = np.empty((1))\n",
    "\n",
    "for i in range(total_images):   \n",
    "    buf = f.read(1)\n",
    "    labels = np.frombuffer(buf, dtype=np.uint8).astype(np.int64)\n",
    "    y = np.concatenate((y, labels), axis = 0)\n",
    "\n",
    "y = y.astype(np.int32)\n",
    "print(y)"
   ]
  },
  {
   "cell_type": "code",
   "execution_count": 6,
   "id": "b19030a1",
   "metadata": {},
   "outputs": [
    {
     "data": {
      "image/png": "[encoded data removed]",
      "text/plain": [
       "<Figure size 640x480 with 1 Axes>"
      ]
     },
     "metadata": {},
     "output_type": "display_data"
    }
   ],
   "source": [
    "image = np.asarray(X[1]).reshape((28, 28))\n",
    "plt.imshow(image)\n",
    "plt.show()"
   ]
  },
  {
   "cell_type": "code",
   "execution_count": 7,
   "id": "45b6ef1d",
   "metadata": {},
   "outputs": [
    {
     "data": {
      "text/plain": [
       "(60000, 784)"
      ]
     },
     "execution_count": 7,
     "metadata": {},
     "output_type": "execute_result"
    }
   ],
   "source": [
    "X_train = X[1:].reshape((total_images, image_size ** 2))\n",
    "X_train.shape"
   ]
  },
  {
   "cell_type": "code",
   "execution_count": 8,
   "id": "53c07e71",
   "metadata": {},
   "outputs": [
    {
     "data": {
      "text/plain": [
       "(60000, 10)"
      ]
     },
     "execution_count": 8,
     "metadata": {},
     "output_type": "execute_result"
    }
   ],
   "source": [
    "y_train = y[1:].astype(np.int32)\n",
    "y_train = np.array([([0] * i + [1] + [0] * (9 - i)) for i in y_train])\n",
    "y_train.shape"
   ]
  },
  {
   "cell_type": "code",
   "execution_count": 9,
   "id": "0321f0b6",
   "metadata": {},
   "outputs": [],
   "source": [
    "model = network.Network(inputDim=image_size ** 2, intializationScheme='glorot-uniform')\n",
    "model.addLayer(dim = 300, activation='sigmoid')\n",
    "model.addLayer(dim = 10, activation='softmax')\n",
    "model.compile(loss='cat-crossentropy', optimizer='gd', batch_type=\"mbgd\", batch_size=100)"
   ]
  },
  {
   "cell_type": "code",
   "execution_count": 10,
   "id": "0ae23cfe",
   "metadata": {},
   "outputs": [
    {
     "name": "stdout",
     "output_type": "stream",
     "text": [
      "Epoch 1: calculated loss = 0.485179897399 | calculated accuracy = 0.87188\n",
      "Epoch 2: calculated loss = 0.300702086383 | calculated accuracy = 0.91735\n",
      "Epoch 3: calculated loss = 0.259140712057 | calculated accuracy = 0.92725\n",
      "Epoch 4: calculated loss = 0.238319770908 | calculated accuracy = 0.93323\n",
      "Epoch 5: calculated loss = 0.225311720595 | calculated accuracy = 0.93642\n",
      "Epoch 6: calculated loss = 0.208365169319 | calculated accuracy = 0.94110\n",
      "Epoch 7: calculated loss = 0.207624598295 | calculated accuracy = 0.94228\n",
      "Epoch 8: calculated loss = 0.191581754332 | calculated accuracy = 0.94595\n",
      "Epoch 9: calculated loss = 0.186314652845 | calculated accuracy = 0.94740\n",
      "Epoch 10: calculated loss = 0.182874133102 | calculated accuracy = 0.94848\n",
      "Epoch 11: calculated loss = 0.173189405650 | calculated accuracy = 0.94988\n",
      "Epoch 12: calculated loss = 0.171363031036 | calculated accuracy = 0.95108\n",
      "Epoch 13: calculated loss = 0.166327045023 | calculated accuracy = 0.95315\n",
      "Epoch 14: calculated loss = 0.162108616128 | calculated accuracy = 0.95325\n",
      "Epoch 15: calculated loss = 0.163989904285 | calculated accuracy = 0.95222\n",
      "Epoch 16: calculated loss = 0.158754335489 | calculated accuracy = 0.95455\n",
      "Epoch 17: calculated loss = 0.156114246710 | calculated accuracy = 0.95472\n",
      "Epoch 18: calculated loss = 0.152544972055 | calculated accuracy = 0.95607\n",
      "Epoch 19: calculated loss = 0.157218046653 | calculated accuracy = 0.95435\n",
      "Epoch 20: calculated loss = 0.151499268358 | calculated accuracy = 0.95570\n",
      "Epoch 21: calculated loss = 0.144428558271 | calculated accuracy = 0.95843\n",
      "Epoch 22: calculated loss = 0.141678016420 | calculated accuracy = 0.95827\n",
      "Epoch 23: calculated loss = 0.136408347709 | calculated accuracy = 0.96045\n",
      "Epoch 24: calculated loss = 0.134294780756 | calculated accuracy = 0.96138\n",
      "Epoch 25: calculated loss = 0.136073401813 | calculated accuracy = 0.96067\n",
      "Epoch 26: calculated loss = 0.143620974913 | calculated accuracy = 0.95845\n",
      "Epoch 27: calculated loss = 0.143004313223 | calculated accuracy = 0.95772\n",
      "Epoch 28: calculated loss = 0.133727489332 | calculated accuracy = 0.96107\n",
      "Epoch 29: calculated loss = 0.136500031823 | calculated accuracy = 0.96010\n",
      "Epoch 30: calculated loss = 0.135922603559 | calculated accuracy = 0.96043\n",
      "Epoch 31: calculated loss = 0.132125503415 | calculated accuracy = 0.96148\n",
      "Epoch 32: calculated loss = 0.128418414000 | calculated accuracy = 0.96185\n",
      "Epoch 33: calculated loss = 0.129116761298 | calculated accuracy = 0.96187\n",
      "Epoch 34: calculated loss = 0.129211952754 | calculated accuracy = 0.96168\n",
      "Epoch 35: calculated loss = 0.128350613603 | calculated accuracy = 0.96102\n",
      "Epoch 36: calculated loss = 0.132132914993 | calculated accuracy = 0.96065\n",
      "Epoch 37: calculated loss = 0.123201079114 | calculated accuracy = 0.96230\n",
      "Epoch 38: calculated loss = 0.126166583884 | calculated accuracy = 0.96143\n",
      "Epoch 39: calculated loss = 0.123276522207 | calculated accuracy = 0.96337\n",
      "Epoch 40: calculated loss = 0.117222631996 | calculated accuracy = 0.96443\n",
      "Epoch 41: calculated loss = 0.120402595836 | calculated accuracy = 0.96413\n",
      "Epoch 42: calculated loss = 0.112753425705 | calculated accuracy = 0.96647\n",
      "Epoch 43: calculated loss = 0.109503346401 | calculated accuracy = 0.96738\n",
      "Epoch 44: calculated loss = 0.113359999112 | calculated accuracy = 0.96623\n",
      "Epoch 45: calculated loss = 0.112324660557 | calculated accuracy = 0.96623\n",
      "Epoch 46: calculated loss = 0.111821170654 | calculated accuracy = 0.96627\n",
      "Epoch 47: calculated loss = 0.113781778202 | calculated accuracy = 0.96568\n",
      "Epoch 48: calculated loss = 0.117083188447 | calculated accuracy = 0.96433\n",
      "Epoch 49: calculated loss = 0.117673618506 | calculated accuracy = 0.96512\n",
      "Epoch 50: calculated loss = 0.114279675716 | calculated accuracy = 0.96610\n",
      "Epoch 51: calculated loss = 0.112749442825 | calculated accuracy = 0.96502\n",
      "Epoch 52: calculated loss = 0.115641769638 | calculated accuracy = 0.96443\n",
      "Epoch 53: calculated loss = 0.114676136817 | calculated accuracy = 0.96475\n",
      "Epoch 54: calculated loss = 0.111471323071 | calculated accuracy = 0.96610\n",
      "Epoch 55: calculated loss = 0.111734139034 | calculated accuracy = 0.96672\n",
      "Epoch 56: calculated loss = 0.109340331631 | calculated accuracy = 0.96793\n",
      "Epoch 57: calculated loss = 0.109573526637 | calculated accuracy = 0.96682\n",
      "Epoch 58: calculated loss = 0.113302903504 | calculated accuracy = 0.96602\n",
      "Epoch 59: calculated loss = 0.111057799220 | calculated accuracy = 0.96602\n",
      "Epoch 60: calculated loss = 0.106499742373 | calculated accuracy = 0.96880\n",
      "Epoch 61: calculated loss = 0.113637505200 | calculated accuracy = 0.96593\n",
      "Epoch 62: calculated loss = 0.112947849015 | calculated accuracy = 0.96557\n",
      "Epoch 63: calculated loss = 0.111132584960 | calculated accuracy = 0.96633\n",
      "Epoch 64: calculated loss = 0.109891778465 | calculated accuracy = 0.96702\n",
      "Epoch 65: calculated loss = 0.106352225572 | calculated accuracy = 0.96743\n",
      "Epoch 66: calculated loss = 0.114366009461 | calculated accuracy = 0.96448\n",
      "Epoch 67: calculated loss = 0.114316069063 | calculated accuracy = 0.96402\n",
      "Epoch 68: calculated loss = 0.107001223135 | calculated accuracy = 0.96597\n",
      "Epoch 69: calculated loss = 0.107596391403 | calculated accuracy = 0.96598\n",
      "Epoch 70: calculated loss = 0.107341813900 | calculated accuracy = 0.96732\n",
      "Epoch 71: calculated loss = 0.109040550138 | calculated accuracy = 0.96607\n",
      "Epoch 72: calculated loss = 0.106188737154 | calculated accuracy = 0.96707\n",
      "Epoch 73: calculated loss = 0.107730135724 | calculated accuracy = 0.96718\n",
      "Epoch 74: calculated loss = 0.109933846603 | calculated accuracy = 0.96668\n",
      "Epoch 75: calculated loss = 0.110429208269 | calculated accuracy = 0.96602\n",
      "Epoch 76: calculated loss = 0.108821990667 | calculated accuracy = 0.96663\n",
      "Epoch 77: calculated loss = 0.112590303696 | calculated accuracy = 0.96592\n",
      "Epoch 78: calculated loss = 0.107146953736 | calculated accuracy = 0.96667\n",
      "Epoch 79: calculated loss = 0.105502350675 | calculated accuracy = 0.96750\n",
      "Epoch 80: calculated loss = 0.107617747101 | calculated accuracy = 0.96703\n",
      "Epoch 81: calculated loss = 0.106829593530 | calculated accuracy = 0.96750\n",
      "Epoch 82: calculated loss = 0.108533664785 | calculated accuracy = 0.96670\n",
      "Epoch 83: calculated loss = 0.108129142752 | calculated accuracy = 0.96687\n",
      "Epoch 84: calculated loss = 0.104407225157 | calculated accuracy = 0.96767\n",
      "Epoch 85: calculated loss = 0.099648100028 | calculated accuracy = 0.96928\n",
      "Epoch 86: calculated loss = 0.105158843849 | calculated accuracy = 0.96772\n",
      "Epoch 87: calculated loss = 0.098006368261 | calculated accuracy = 0.97010\n",
      "Epoch 88: calculated loss = 0.098858337168 | calculated accuracy = 0.96977\n",
      "Epoch 89: calculated loss = 0.100338947050 | calculated accuracy = 0.96880\n",
      "Epoch 90: calculated loss = 0.102102387405 | calculated accuracy = 0.96768\n",
      "Epoch 91: calculated loss = 0.100039812721 | calculated accuracy = 0.96865\n",
      "Epoch 92: calculated loss = 0.103342743275 | calculated accuracy = 0.96780\n",
      "Epoch 93: calculated loss = 0.100352176884 | calculated accuracy = 0.96903\n",
      "Epoch 94: calculated loss = 0.101564490702 | calculated accuracy = 0.96852\n",
      "Epoch 95: calculated loss = 0.095018396388 | calculated accuracy = 0.97017\n",
      "Epoch 96: calculated loss = 0.094062066504 | calculated accuracy = 0.97022\n",
      "Epoch 97: calculated loss = 0.094302008805 | calculated accuracy = 0.97052\n",
      "Epoch 98: calculated loss = 0.095631771048 | calculated accuracy = 0.97112\n",
      "Epoch 99: calculated loss = 0.095276217786 | calculated accuracy = 0.97078\n",
      "Epoch 100: calculated loss = 0.095368587762 | calculated accuracy = 0.97028\n"
     ]
    },
    {
     "data": {
      "image/png": "[encoded data removed]",
      "text/plain": [
       "<Figure size 640x480 with 1 Axes>"
      ]
     },
     "metadata": {},
     "output_type": "display_data"
    },
    {
     "data": {
      "image/png": "[encoded data removed]",
      "text/plain": [
       "<Figure size 640x480 with 1 Axes>"
      ]
     },
     "metadata": {},
     "output_type": "display_data"
    }
   ],
   "source": [
    "model.train(X_train.T, y_train.T, alpha=0.05, epochs = 100)"
   ]
  },
  {
   "cell_type": "code",
   "execution_count": 11,
   "id": "f5a0f05f",
   "metadata": {},
   "outputs": [
    {
     "data": {
      "text/plain": [
       "(10000, 784)"
      ]
     },
     "execution_count": 11,
     "metadata": {},
     "output_type": "execute_result"
    }
   ],
   "source": [
    "f = gzip.open('../samples/t10k-images-idx3-ubyte.gz','r')\n",
    "\n",
    "image_size = 28\n",
    "num_images = 100\n",
    "total_images = 10000\n",
    "\n",
    "f.read(16)\n",
    "\n",
    "X_test = np.empty(shape=(1, image_size, image_size))\n",
    "\n",
    "for i in range(total_images // num_images):\n",
    "    buf = f.read(image_size * image_size * num_images)\n",
    "    data = np.frombuffer(buf, dtype=np.uint8).astype(np.float32)\n",
    "    data = data.reshape(num_images, image_size, image_size)    \n",
    "    X_test = np.concatenate((X_test, data), axis = 0)\n",
    "    \n",
    "X_test = X_test[1:].reshape((total_images, image_size ** 2))\n",
    "X_test.shape"
   ]
  },
  {
   "cell_type": "code",
   "execution_count": 12,
   "id": "092b0da9",
   "metadata": {},
   "outputs": [
    {
     "data": {
      "text/plain": [
       "(10000, 10)"
      ]
     },
     "execution_count": 12,
     "metadata": {},
     "output_type": "execute_result"
    }
   ],
   "source": [
    "f = gzip.open('../samples/t10k-labels-idx1-ubyte.gz','r')\n",
    "f.read(8)\n",
    "\n",
    "y_test = np.empty((1))\n",
    "\n",
    "for i in range(total_images):   \n",
    "    buf = f.read(1)\n",
    "    labels = np.frombuffer(buf, dtype=np.uint8).astype(np.int64)\n",
    "    y_test = np.concatenate((y_test, labels), axis = 0)\n",
    "\n",
    "y_test = y_test.astype(np.int32)\n",
    "y_test = y_test[1:].astype(np.int32)\n",
    "y_test = np.array([([0] * i + [1] + [0] * (9 - i)) for i in y_test])\n",
    "y_test.shape"
   ]
  },
  {
   "cell_type": "code",
   "execution_count": 13,
   "id": "cb39f3e3",
   "metadata": {},
   "outputs": [
    {
     "name": "stdout",
     "output_type": "stream",
     "text": [
      "testing accuracy on mnist testing dataset: 95.83%\n"
     ]
    }
   ],
   "source": [
    "pred, cf, accuracy = model.predict(X_test.T, y_test.T)\n",
    "print(f\"testing accuracy on mnist testing dataset: {100 * accuracy:.2f}%\")"
   ]
  },
  {
   "cell_type": "code",
   "execution_count": 14,
   "id": "c1674cc6",
   "metadata": {},
   "outputs": [],
   "source": [
    "d = pd.DataFrame()\n",
    "d[\"actual\"] = np.where(y_test == 1)[1]\n",
    "v = []\n",
    "for p in pred.T:\n",
    "    if 1 in p:\n",
    "        v.append(np.where(p == 1)[0][0])\n",
    "    else:\n",
    "        v.append(np.nan)\n",
    "d[\"predicted\"] = np.array(v).astype(np.int)"
   ]
  },
  {
   "cell_type": "code",
   "execution_count": 15,
   "id": "1ca8c99f",
   "metadata": {},
   "outputs": [
    {
     "data": {
      "text/html": [
       "<div>\n",
       "<style scoped>\n",
       "    .dataframe tbody tr th:only-of-type {\n",
       "        vertical-align: middle;\n",
       "    }\n",
       "\n",
       "    .dataframe tbody tr th {\n",
       "        vertical-align: top;\n",
       "    }\n",
       "\n",
       "    .dataframe thead th {\n",
       "        text-align: right;\n",
       "    }\n",
       "</style>\n",
       "<table border=\"1\" class=\"dataframe\">\n",
       "  <thead>\n",
       "    <tr style=\"text-align: right;\">\n",
       "      <th></th>\n",
       "      <th>actual</th>\n",
       "      <th>predicted</th>\n",
       "    </tr>\n",
       "  </thead>\n",
       "  <tbody>\n",
       "    <tr>\n",
       "      <th>0</th>\n",
       "      <td>7</td>\n",
       "      <td>7</td>\n",
       "    </tr>\n",
       "    <tr>\n",
       "      <th>1</th>\n",
       "      <td>2</td>\n",
       "      <td>2</td>\n",
       "    </tr>\n",
       "    <tr>\n",
       "      <th>2</th>\n",
       "      <td>1</td>\n",
       "      <td>1</td>\n",
       "    </tr>\n",
       "    <tr>\n",
       "      <th>3</th>\n",
       "      <td>0</td>\n",
       "      <td>0</td>\n",
       "    </tr>\n",
       "    <tr>\n",
       "      <th>4</th>\n",
       "      <td>4</td>\n",
       "      <td>4</td>\n",
       "    </tr>\n",
       "    <tr>\n",
       "      <th>...</th>\n",
       "      <td>...</td>\n",
       "      <td>...</td>\n",
       "    </tr>\n",
       "    <tr>\n",
       "      <th>9995</th>\n",
       "      <td>2</td>\n",
       "      <td>2</td>\n",
       "    </tr>\n",
       "    <tr>\n",
       "      <th>9996</th>\n",
       "      <td>3</td>\n",
       "      <td>3</td>\n",
       "    </tr>\n",
       "    <tr>\n",
       "      <th>9997</th>\n",
       "      <td>4</td>\n",
       "      <td>4</td>\n",
       "    </tr>\n",
       "    <tr>\n",
       "      <th>9998</th>\n",
       "      <td>5</td>\n",
       "      <td>5</td>\n",
       "    </tr>\n",
       "    <tr>\n",
       "      <th>9999</th>\n",
       "      <td>6</td>\n",
       "      <td>6</td>\n",
       "    </tr>\n",
       "  </tbody>\n",
       "</table>\n",
       "<p>10000 rows × 2 columns</p>\n",
       "</div>"
      ],
      "text/plain": [
       "      actual  predicted\n",
       "0          7          7\n",
       "1          2          2\n",
       "2          1          1\n",
       "3          0          0\n",
       "4          4          4\n",
       "...      ...        ...\n",
       "9995       2          2\n",
       "9996       3          3\n",
       "9997       4          4\n",
       "9998       5          5\n",
       "9999       6          6\n",
       "\n",
       "[10000 rows x 2 columns]"
      ]
     },
     "execution_count": 15,
     "metadata": {},
     "output_type": "execute_result"
    }
   ],
   "source": [
    "d"
   ]
  },
  {
   "cell_type": "code",
   "execution_count": 16,
   "id": "7537a952",
   "metadata": {},
   "outputs": [
    {
     "data": {
      "image/png": "[encoded data removed]",
      "text/plain": [
       "<Figure size 640x480 with 1 Axes>"
      ]
     },
     "metadata": {},
     "output_type": "display_data"
    }
   ],
   "source": [
    "image = np.asarray(X_test[0]).reshape((28, 28))\n",
    "plt.imshow(image)\n",
    "plt.show()"
   ]
  },
  {
   "cell_type": "code",
   "execution_count": 37,
   "id": "1bcd0742",
   "metadata": {},
   "outputs": [
    {
     "name": "stdout",
     "output_type": "stream",
     "text": [
      "neural network flushed to ann.json\n"
     ]
    }
   ],
   "source": [
    "model.flushnn()"
   ]
  },
  {
   "cell_type": "code",
   "execution_count": 38,
   "id": "75dc0823",
   "metadata": {},
   "outputs": [
    {
     "name": "stdout",
     "output_type": "stream",
     "text": [
      "loaded neural network from ann.json\n",
      "dict_keys(['activations', 'batch_size', 'batch_type', 'dims', 'gen', 'intializationScheme', 'loss', 'optimizer', 'outputs'])\n",
      "dict_keys(['activation', 'initializationScheme', 'W', 'b'])\n"
     ]
    }
   ],
   "source": [
    "model.loadnn(\"ann.json\")"
   ]
  }
 ],
 "metadata": {
  "kernelspec": {
   "display_name": "Python 3",
   "language": "python",
   "name": "python3"
  },
  "language_info": {
   "codemirror_mode": {
    "name": "ipython",
    "version": 3
   },
   "file_extension": ".py",
   "mimetype": "text/x-python",
   "name": "python",
   "nbconvert_exporter": "python",
   "pygments_lexer": "ipython3",
   "version": "3.8.8"
  }
 },
 "nbformat": 4,
 "nbformat_minor": 5
}
