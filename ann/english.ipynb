{
 "cells": [
  {
   "cell_type": "code",
   "execution_count": 32,
   "id": "78cba5fc",
   "metadata": {},
   "outputs": [],
   "source": [
    "%reload_ext autoreload\n",
    "%autoreload 2"
   ]
  },
  {
   "cell_type": "code",
   "execution_count": 1,
   "id": "249595ee",
   "metadata": {},
   "outputs": [
    {
     "ename": "ImportError",
     "evalue": "CuPy is not correctly installed.\n\nIf you are using wheel distribution (cupy-cudaXX), make sure that the version of CuPy you installed matches with the version of CUDA on your host.\nAlso, confirm that only one CuPy package is installed:\n  $ pip freeze\n\nIf you are building CuPy from source, please check your environment, uninstall CuPy and reinstall it with:\n  $ pip install cupy --no-cache-dir -vvvv\n\nCheck the Installation Guide for details:\n  https://docs.cupy.dev/en/latest/install.html\n\noriginal error: DLL load failed while importing runtime: The specified procedure could not be found.",
     "output_type": "error",
     "traceback": [
      "\u001b[1;31m---------------------------------------------------------------------------\u001b[0m",
      "\u001b[1;31mImportError\u001b[0m                               Traceback (most recent call last)",
      "\u001b[1;32mC:\\ProgramData\\Anaconda3\\lib\\site-packages\\cupy\\__init__.py\u001b[0m in \u001b[0;36m<module>\u001b[1;34m\u001b[0m\n\u001b[0;32m     15\u001b[0m \u001b[1;32mtry\u001b[0m\u001b[1;33m:\u001b[0m\u001b[1;33m\u001b[0m\u001b[1;33m\u001b[0m\u001b[0m\n\u001b[1;32m---> 16\u001b[1;33m     \u001b[1;32mfrom\u001b[0m \u001b[0mcupy\u001b[0m \u001b[1;32mimport\u001b[0m \u001b[0m_core\u001b[0m  \u001b[1;31m# NOQA\u001b[0m\u001b[1;33m\u001b[0m\u001b[1;33m\u001b[0m\u001b[0m\n\u001b[0m\u001b[0;32m     17\u001b[0m \u001b[1;32mexcept\u001b[0m \u001b[0mImportError\u001b[0m \u001b[1;32mas\u001b[0m \u001b[0me\u001b[0m\u001b[1;33m:\u001b[0m\u001b[1;33m\u001b[0m\u001b[1;33m\u001b[0m\u001b[0m\n",
      "\u001b[1;32mC:\\ProgramData\\Anaconda3\\lib\\site-packages\\cupy\\_core\\__init__.py\u001b[0m in \u001b[0;36m<module>\u001b[1;34m\u001b[0m\n\u001b[1;32m----> 1\u001b[1;33m \u001b[1;32mfrom\u001b[0m \u001b[0mcupy\u001b[0m\u001b[1;33m.\u001b[0m\u001b[0m_core\u001b[0m \u001b[1;32mimport\u001b[0m \u001b[0mcore\u001b[0m  \u001b[1;31m# NOQA\u001b[0m\u001b[1;33m\u001b[0m\u001b[1;33m\u001b[0m\u001b[0m\n\u001b[0m\u001b[0;32m      2\u001b[0m \u001b[1;32mfrom\u001b[0m \u001b[0mcupy\u001b[0m\u001b[1;33m.\u001b[0m\u001b[0m_core\u001b[0m \u001b[1;32mimport\u001b[0m \u001b[0mfusion\u001b[0m  \u001b[1;31m# NOQA\u001b[0m\u001b[1;33m\u001b[0m\u001b[1;33m\u001b[0m\u001b[0m\n\u001b[0;32m      3\u001b[0m \u001b[1;32mfrom\u001b[0m \u001b[0mcupy\u001b[0m\u001b[1;33m.\u001b[0m\u001b[0m_core\u001b[0m \u001b[1;32mimport\u001b[0m \u001b[0minternal\u001b[0m  \u001b[1;31m# NOQA\u001b[0m\u001b[1;33m\u001b[0m\u001b[1;33m\u001b[0m\u001b[0m\n",
      "\u001b[1;32mcupy\\_core\\core.pyx\u001b[0m in \u001b[0;36minit cupy._core.core\u001b[1;34m()\u001b[0m\n",
      "\u001b[1;32mC:\\ProgramData\\Anaconda3\\lib\\site-packages\\cupy\\cuda\\__init__.py\u001b[0m in \u001b[0;36m<module>\u001b[1;34m\u001b[0m\n\u001b[0;32m      7\u001b[0m \u001b[1;32mfrom\u001b[0m \u001b[0mcupy\u001b[0m\u001b[1;33m.\u001b[0m\u001b[0m_environment\u001b[0m \u001b[1;32mimport\u001b[0m \u001b[0mget_hipcc_path\u001b[0m  \u001b[1;31m# NOQA\u001b[0m\u001b[1;33m\u001b[0m\u001b[1;33m\u001b[0m\u001b[0m\n\u001b[1;32m----> 8\u001b[1;33m \u001b[1;32mfrom\u001b[0m \u001b[0mcupy\u001b[0m\u001b[1;33m.\u001b[0m\u001b[0mcuda\u001b[0m \u001b[1;32mimport\u001b[0m \u001b[0mcompiler\u001b[0m  \u001b[1;31m# NOQA\u001b[0m\u001b[1;33m\u001b[0m\u001b[1;33m\u001b[0m\u001b[0m\n\u001b[0m\u001b[0;32m      9\u001b[0m \u001b[1;32mfrom\u001b[0m \u001b[0mcupy\u001b[0m\u001b[1;33m.\u001b[0m\u001b[0mcuda\u001b[0m \u001b[1;32mimport\u001b[0m \u001b[0mdevice\u001b[0m  \u001b[1;31m# NOQA\u001b[0m\u001b[1;33m\u001b[0m\u001b[1;33m\u001b[0m\u001b[0m\n",
      "\u001b[1;32mC:\\ProgramData\\Anaconda3\\lib\\site-packages\\cupy\\cuda\\compiler.py\u001b[0m in \u001b[0;36m<module>\u001b[1;34m\u001b[0m\n\u001b[0;32m     10\u001b[0m \u001b[1;33m\u001b[0m\u001b[0m\n\u001b[1;32m---> 11\u001b[1;33m \u001b[1;32mfrom\u001b[0m \u001b[0mcupy\u001b[0m\u001b[1;33m.\u001b[0m\u001b[0mcuda\u001b[0m \u001b[1;32mimport\u001b[0m \u001b[0mdevice\u001b[0m\u001b[1;33m\u001b[0m\u001b[1;33m\u001b[0m\u001b[0m\n\u001b[0m\u001b[0;32m     12\u001b[0m \u001b[1;32mfrom\u001b[0m \u001b[0mcupy\u001b[0m\u001b[1;33m.\u001b[0m\u001b[0mcuda\u001b[0m \u001b[1;32mimport\u001b[0m \u001b[0mfunction\u001b[0m\u001b[1;33m\u001b[0m\u001b[1;33m\u001b[0m\u001b[0m\n",
      "\u001b[1;32mcupy\\cuda\\device.pyx\u001b[0m in \u001b[0;36minit cupy.cuda.device\u001b[1;34m()\u001b[0m\n",
      "\u001b[1;31mImportError\u001b[0m: DLL load failed while importing runtime: The specified procedure could not be found.",
      "\nThe above exception was the direct cause of the following exception:\n",
      "\u001b[1;31mImportError\u001b[0m                               Traceback (most recent call last)",
      "\u001b[1;32m<ipython-input-1-b0ae5ab2b7ab>\u001b[0m in \u001b[0;36m<module>\u001b[1;34m\u001b[0m\n\u001b[0;32m      6\u001b[0m \u001b[1;32mfrom\u001b[0m \u001b[0msklearn\u001b[0m\u001b[1;33m.\u001b[0m\u001b[0mmodel_selection\u001b[0m \u001b[1;32mimport\u001b[0m \u001b[0mtrain_test_split\u001b[0m\u001b[1;33m\u001b[0m\u001b[1;33m\u001b[0m\u001b[0m\n\u001b[0;32m      7\u001b[0m \u001b[1;32mimport\u001b[0m \u001b[0mnetwork\u001b[0m\u001b[1;33m\u001b[0m\u001b[1;33m\u001b[0m\u001b[0m\n\u001b[1;32m----> 8\u001b[1;33m \u001b[1;32mimport\u001b[0m \u001b[0mcupy\u001b[0m \u001b[1;32mas\u001b[0m \u001b[0mcp\u001b[0m\u001b[1;33m\u001b[0m\u001b[1;33m\u001b[0m\u001b[0m\n\u001b[0m",
      "\u001b[1;32mC:\\ProgramData\\Anaconda3\\lib\\site-packages\\cupy\\__init__.py\u001b[0m in \u001b[0;36m<module>\u001b[1;34m\u001b[0m\n\u001b[0;32m     35\u001b[0m original error: {}'''.format(_exc_info[1]))  # NOQA\n\u001b[0;32m     36\u001b[0m \u001b[1;33m\u001b[0m\u001b[0m\n\u001b[1;32m---> 37\u001b[1;33m     \u001b[1;32mraise\u001b[0m \u001b[0mImportError\u001b[0m\u001b[1;33m(\u001b[0m\u001b[0m_msg\u001b[0m\u001b[1;33m)\u001b[0m \u001b[1;32mfrom\u001b[0m \u001b[0me\u001b[0m\u001b[1;33m\u001b[0m\u001b[1;33m\u001b[0m\u001b[0m\n\u001b[0m\u001b[0;32m     38\u001b[0m \u001b[1;33m\u001b[0m\u001b[0m\n\u001b[0;32m     39\u001b[0m \u001b[1;33m\u001b[0m\u001b[0m\n",
      "\u001b[1;31mImportError\u001b[0m: CuPy is not correctly installed.\n\nIf you are using wheel distribution (cupy-cudaXX), make sure that the version of CuPy you installed matches with the version of CUDA on your host.\nAlso, confirm that only one CuPy package is installed:\n  $ pip freeze\n\nIf you are building CuPy from source, please check your environment, uninstall CuPy and reinstall it with:\n  $ pip install cupy --no-cache-dir -vvvv\n\nCheck the Installation Guide for details:\n  https://docs.cupy.dev/en/latest/install.html\n\noriginal error: DLL load failed while importing runtime: The specified procedure could not be found."
     ]
    }
   ],
   "source": [
    "import pandas as pd\n",
    "import numpy as np\n",
    "import matplotlib.pyplot as plt\n",
    "import os\n",
    "import matplotlib\n",
    "from sklearn.model_selection import train_test_split\n",
    "import network\n",
    "# import cupy as cp"
   ]
  },
  {
   "cell_type": "code",
   "execution_count": 2,
   "id": "9c30c862",
   "metadata": {},
   "outputs": [],
   "source": [
    "df = pd.read_csv(\"../samples/A_Z Handwritten Data.csv\")"
   ]
  },
  {
   "cell_type": "code",
   "execution_count": 7,
   "id": "72d31ef8",
   "metadata": {},
   "outputs": [],
   "source": [
    "image_size = 28\n",
    "\n",
    "def vec2img(v):\n",
    "    index = v[0]\n",
    "    img = np.array(v[1:]).reshape(image_size, image_size)\n",
    "    plt.imshow(img)\n",
    "    plt.show()\n",
    "    return chr(index + 97), img"
   ]
  },
  {
   "cell_type": "code",
   "execution_count": 51,
   "id": "64baff8f",
   "metadata": {},
   "outputs": [],
   "source": [
    "parent_dir = \"C:\\\\github\\\\deep-scratch\\\\samples\\\\english\"\n",
    "\n",
    "index = 1\n",
    "lastc = None\n",
    "\n",
    "for _, row in df.iterrows():\n",
    "    c, img = vec2img(row)\n",
    "    if c!= lastc:\n",
    "        index = 1\n",
    "    try:\n",
    "        os.mkdir(os.path.join(parent_dir, c))\n",
    "    except:\n",
    "        pass\n",
    "    \n",
    "    path = os.path.join(parent_dir, c, f\"{index}.jpg\")\n",
    "    matplotlib.image.imsave(path, img, cmap='gray')\n",
    "    index += 1\n",
    "    lastc = c"
   ]
  },
  {
   "cell_type": "code",
   "execution_count": 3,
   "id": "62e6542f",
   "metadata": {},
   "outputs": [],
   "source": [
    "df_train = pd.DataFrame()\n",
    "df_test = pd.DataFrame()\n",
    "\n",
    "for c in range(26):\n",
    "    train, test = train_test_split(df[df['0'] == c], test_size=0.2, shuffle=True)\n",
    "    df_train = df_train.append(train, ignore_index=True)\n",
    "    df_test = df_test.append(test, ignore_index=True)\n",
    "    \n",
    "del df"
   ]
  },
  {
   "cell_type": "code",
   "execution_count": 4,
   "id": "82696f9d",
   "metadata": {},
   "outputs": [
    {
     "data": {
      "text/plain": [
       "(297950, 784)"
      ]
     },
     "execution_count": 4,
     "metadata": {},
     "output_type": "execute_result"
    }
   ],
   "source": [
    "X_train = df_train[df_train.columns[1:]]\n",
    "X_train.shape"
   ]
  },
  {
   "cell_type": "code",
   "execution_count": 5,
   "id": "df49146c",
   "metadata": {},
   "outputs": [],
   "source": [
    "y_train = df_train[df_train.columns[0]].values.astype(np.int32)\n",
    "y_train = np.array([np.array([0] * i + [1] + [0] * (25 - i)) for i in y_train])\n",
    "y_train.shape\n",
    "\n",
    "del df_train"
   ]
  },
  {
   "cell_type": "code",
   "execution_count": 10,
   "id": "ba165194",
   "metadata": {},
   "outputs": [],
   "source": [
    "model = network.Network(inputDim=image_size ** 2, intializationScheme='glorot-uniform')\n",
    "model.addLayer(dim = 300, activation='sigmoid')\n",
    "model.addLayer(dim = 26, activation='softmax')\n",
    "model.compile(loss='cat-crossentropy', optimizer='gd', batch_type=\"mbgd\", batch_size=500)"
   ]
  },
  {
   "cell_type": "code",
   "execution_count": 11,
   "id": "b884e78d",
   "metadata": {},
   "outputs": [
    {
     "name": "stdout",
     "output_type": "stream",
     "text": [
      "Epoch 1: calculated loss = 0.335336652173 | calculated accuracy = 0.94365\n",
      "Epoch 2: calculated loss = 0.315861748102 | calculated accuracy = 0.93793\n",
      "Epoch 3: calculated loss = 0.255364688702 | calculated accuracy = 0.94248\n",
      "Epoch 4: calculated loss = 0.218561296761 | calculated accuracy = 0.94689\n",
      "Epoch 5: calculated loss = 0.200177250346 | calculated accuracy = 0.94988\n",
      "Epoch 6: calculated loss = 0.182790887254 | calculated accuracy = 0.95422\n",
      "Epoch 7: calculated loss = 0.177722094519 | calculated accuracy = 0.95454\n",
      "Epoch 8: calculated loss = 0.167753977265 | calculated accuracy = 0.95672\n",
      "Epoch 9: calculated loss = 0.159697375915 | calculated accuracy = 0.95847\n",
      "Epoch 10: calculated loss = 0.158048140008 | calculated accuracy = 0.95855\n",
      "Epoch 11: calculated loss = 0.154320415496 | calculated accuracy = 0.95966\n",
      "Epoch 12: calculated loss = 0.152803338145 | calculated accuracy = 0.95968\n",
      "Epoch 13: calculated loss = 0.148700906239 | calculated accuracy = 0.96079\n",
      "Epoch 14: calculated loss = 0.146627580239 | calculated accuracy = 0.96096\n",
      "Epoch 15: calculated loss = 0.144640727309 | calculated accuracy = 0.96165\n",
      "Epoch 16: calculated loss = 0.141201675503 | calculated accuracy = 0.96215\n",
      "Epoch 17: calculated loss = 0.139143307248 | calculated accuracy = 0.96275\n",
      "Epoch 18: calculated loss = 0.135426640864 | calculated accuracy = 0.96381\n",
      "Epoch 19: calculated loss = 0.134493116489 | calculated accuracy = 0.96411\n",
      "Epoch 20: calculated loss = 0.131520829664 | calculated accuracy = 0.96497\n",
      "Epoch 21: calculated loss = 0.129085602580 | calculated accuracy = 0.96547\n",
      "Epoch 22: calculated loss = 0.127874177606 | calculated accuracy = 0.96592\n",
      "Epoch 23: calculated loss = 0.124188270724 | calculated accuracy = 0.96673\n",
      "Epoch 24: calculated loss = 0.121922965522 | calculated accuracy = 0.96724\n",
      "Epoch 25: calculated loss = 0.124054276053 | calculated accuracy = 0.96653\n",
      "Epoch 26: calculated loss = 0.122575202583 | calculated accuracy = 0.96700\n",
      "Epoch 27: calculated loss = 0.121018718455 | calculated accuracy = 0.96721\n",
      "Epoch 28: calculated loss = 0.121538708245 | calculated accuracy = 0.96746\n",
      "Epoch 29: calculated loss = 0.118503828746 | calculated accuracy = 0.96823\n",
      "Epoch 30: calculated loss = 0.119138828783 | calculated accuracy = 0.96782\n",
      "Epoch 31: calculated loss = 0.118635616618 | calculated accuracy = 0.96822\n",
      "Epoch 32: calculated loss = 0.116425532227 | calculated accuracy = 0.96891\n",
      "Epoch 33: calculated loss = 0.114642075641 | calculated accuracy = 0.96923\n",
      "Epoch 34: calculated loss = 0.116033006671 | calculated accuracy = 0.96886\n",
      "Epoch 35: calculated loss = 0.114435016364 | calculated accuracy = 0.96951\n",
      "Epoch 36: calculated loss = 0.113322041556 | calculated accuracy = 0.96950\n",
      "Epoch 37: calculated loss = 0.113494721843 | calculated accuracy = 0.96936\n",
      "Epoch 38: calculated loss = 0.111842818373 | calculated accuracy = 0.96991\n",
      "Epoch 39: calculated loss = 0.110144242836 | calculated accuracy = 0.97033\n",
      "Epoch 40: calculated loss = 0.111963851673 | calculated accuracy = 0.96981\n",
      "Epoch 41: calculated loss = 0.107890399364 | calculated accuracy = 0.97093\n",
      "Epoch 42: calculated loss = 0.106980015167 | calculated accuracy = 0.97102\n",
      "Epoch 43: calculated loss = 0.108683494177 | calculated accuracy = 0.97088\n",
      "Epoch 44: calculated loss = 0.106990426757 | calculated accuracy = 0.97139\n",
      "Epoch 45: calculated loss = 0.107095955647 | calculated accuracy = 0.97137\n",
      "Epoch 46: calculated loss = 0.104818750798 | calculated accuracy = 0.97231\n",
      "Epoch 47: calculated loss = 0.107118875715 | calculated accuracy = 0.97106\n",
      "Epoch 48: calculated loss = 0.103920028149 | calculated accuracy = 0.97239\n",
      "Epoch 49: calculated loss = 0.104004049728 | calculated accuracy = 0.97194\n",
      "Epoch 50: calculated loss = 0.102805529501 | calculated accuracy = 0.97252\n",
      "Epoch 51: calculated loss = 0.103155946468 | calculated accuracy = 0.97228\n",
      "Epoch 52: calculated loss = 0.102486350172 | calculated accuracy = 0.97281\n",
      "Epoch 53: calculated loss = 0.100841834406 | calculated accuracy = 0.97318\n",
      "Epoch 54: calculated loss = 0.102229382022 | calculated accuracy = 0.97254\n",
      "Epoch 55: calculated loss = 0.100676230009 | calculated accuracy = 0.97325\n",
      "Epoch 56: calculated loss = 0.101239584120 | calculated accuracy = 0.97271\n",
      "Epoch 57: calculated loss = 0.100717852053 | calculated accuracy = 0.97309\n",
      "Epoch 58: calculated loss = 0.099968712116 | calculated accuracy = 0.97314\n",
      "Epoch 59: calculated loss = 0.100505091921 | calculated accuracy = 0.97315\n",
      "Epoch 60: calculated loss = 0.097458630996 | calculated accuracy = 0.97405\n",
      "Epoch 61: calculated loss = 0.097776321198 | calculated accuracy = 0.97369\n",
      "Epoch 62: calculated loss = 0.096870596940 | calculated accuracy = 0.97414\n",
      "Epoch 63: calculated loss = 0.095949377336 | calculated accuracy = 0.97467\n",
      "Epoch 64: calculated loss = 0.094758913971 | calculated accuracy = 0.97480\n",
      "Epoch 65: calculated loss = 0.097459041330 | calculated accuracy = 0.97390\n",
      "Epoch 66: calculated loss = 0.094915519591 | calculated accuracy = 0.97494\n",
      "Epoch 67: calculated loss = 0.094381487294 | calculated accuracy = 0.97460\n",
      "Epoch 68: calculated loss = 0.095543793896 | calculated accuracy = 0.97419\n",
      "Epoch 69: calculated loss = 0.094260360631 | calculated accuracy = 0.97484\n",
      "Epoch 70: calculated loss = 0.095362642420 | calculated accuracy = 0.97441\n",
      "Epoch 71: calculated loss = 0.094105402223 | calculated accuracy = 0.97484\n",
      "Epoch 72: calculated loss = 0.093387853095 | calculated accuracy = 0.97504\n",
      "Epoch 73: calculated loss = 0.091538484744 | calculated accuracy = 0.97562\n",
      "Epoch 74: calculated loss = 0.091814702588 | calculated accuracy = 0.97568\n",
      "Epoch 75: calculated loss = 0.093456394366 | calculated accuracy = 0.97492\n",
      "Epoch 76: calculated loss = 0.092908411318 | calculated accuracy = 0.97520\n",
      "Epoch 77: calculated loss = 0.093024533805 | calculated accuracy = 0.97546\n",
      "Epoch 78: calculated loss = 0.091274786649 | calculated accuracy = 0.97589\n",
      "Epoch 79: calculated loss = 0.091282794703 | calculated accuracy = 0.97561\n",
      "Epoch 80: calculated loss = 0.090919390262 | calculated accuracy = 0.97573\n",
      "Epoch 81: calculated loss = 0.089396379056 | calculated accuracy = 0.97620\n",
      "Epoch 82: calculated loss = 0.089912008974 | calculated accuracy = 0.97605\n",
      "Epoch 83: calculated loss = 0.089927811149 | calculated accuracy = 0.97617\n",
      "Epoch 84: calculated loss = 0.089184231270 | calculated accuracy = 0.97622\n",
      "Epoch 85: calculated loss = 0.089047963782 | calculated accuracy = 0.97605\n",
      "Epoch 86: calculated loss = 0.087505322684 | calculated accuracy = 0.97674\n",
      "Epoch 87: calculated loss = 0.086997356964 | calculated accuracy = 0.97672\n",
      "Epoch 88: calculated loss = 0.088917427874 | calculated accuracy = 0.97625\n",
      "Epoch 89: calculated loss = 0.087753945842 | calculated accuracy = 0.97674\n",
      "Epoch 90: calculated loss = 0.087935324799 | calculated accuracy = 0.97672\n",
      "Epoch 91: calculated loss = 0.084973752456 | calculated accuracy = 0.97770\n",
      "Epoch 92: calculated loss = 0.085227873320 | calculated accuracy = 0.97734\n",
      "Epoch 93: calculated loss = 0.085524642556 | calculated accuracy = 0.97730\n",
      "Epoch 94: calculated loss = 0.085552067159 | calculated accuracy = 0.97715\n",
      "Epoch 95: calculated loss = 0.083985229331 | calculated accuracy = 0.97754\n",
      "Epoch 96: calculated loss = 0.083827607769 | calculated accuracy = 0.97750\n",
      "Epoch 97: calculated loss = 0.083630731398 | calculated accuracy = 0.97785\n",
      "Epoch 98: calculated loss = 0.082791615819 | calculated accuracy = 0.97822\n",
      "Epoch 99: calculated loss = 0.082112741163 | calculated accuracy = 0.97832\n",
      "Epoch 100: calculated loss = 0.083034992588 | calculated accuracy = 0.97821\n"
     ]
    },
    {
     "data": {
      "image/png": "[encoded data removed]",
      "text/plain": [
       "<Figure size 640x480 with 1 Axes>"
      ]
     },
     "metadata": {},
     "output_type": "display_data"
    },
    {
     "data": {
      "image/png": "[encoded data removed]",
      "text/plain": [
       "<Figure size 640x480 with 1 Axes>"
      ]
     },
     "metadata": {},
     "output_type": "display_data"
    }
   ],
   "source": [
    "model.train(X_train.T, y_train.T, alpha=0.05, epochs = 100)\n",
    "del X_train\n",
    "del y_train"
   ]
  },
  {
   "cell_type": "code",
   "execution_count": 12,
   "id": "5208213a",
   "metadata": {},
   "outputs": [
    {
     "data": {
      "text/plain": [
       "(74500, 784)"
      ]
     },
     "execution_count": 12,
     "metadata": {},
     "output_type": "execute_result"
    }
   ],
   "source": [
    "X_test = df_test[df_test.columns[1:]]\n",
    "X_test.shape"
   ]
  },
  {
   "cell_type": "code",
   "execution_count": 13,
   "id": "f09dfad8",
   "metadata": {},
   "outputs": [],
   "source": [
    "y_test = df_test[df_test.columns[0]].values.astype(np.int32)\n",
    "y_test = np.array([np.array([0] * i + [1] + [0] * (25 - i)) for i in y_test])\n",
    "y_test.shape\n",
    "\n",
    "del df_test"
   ]
  },
  {
   "cell_type": "code",
   "execution_count": 34,
   "id": "70719e61",
   "metadata": {},
   "outputs": [
    {
     "name": "stdout",
     "output_type": "stream",
     "text": [
      "testing accuracy on mnist testing dataset: 77.09%\n"
     ]
    }
   ],
   "source": [
    "pred, cf, accuracy = model.predict(X_test.T, y_test.T)\n",
    "print(f\"testing accuracy on mnist testing dataset: {100 * accuracy:.2f}%\")"
   ]
  },
  {
   "cell_type": "code",
   "execution_count": 25,
   "id": "d40cc35d",
   "metadata": {},
   "outputs": [],
   "source": [
    "d = pd.DataFrame()\n",
    "d[\"actual\"] = np.where(y_test == 1)[1]\n",
    "v = []\n",
    "for p in pred.T:\n",
    "    if 1 in p:\n",
    "        v.append(np.where(p == 1)[0][0])\n",
    "    else:\n",
    "        v.append(-1)\n",
    "d[\"predicted\"] = np.array(v).astype(np.int)"
   ]
  },
  {
   "cell_type": "code",
   "execution_count": 26,
   "id": "557088fb",
   "metadata": {},
   "outputs": [
    {
     "data": {
      "text/html": [
       "<div>\n",
       "<style scoped>\n",
       "    .dataframe tbody tr th:only-of-type {\n",
       "        vertical-align: middle;\n",
       "    }\n",
       "\n",
       "    .dataframe tbody tr th {\n",
       "        vertical-align: top;\n",
       "    }\n",
       "\n",
       "    .dataframe thead th {\n",
       "        text-align: right;\n",
       "    }\n",
       "</style>\n",
       "<table border=\"1\" class=\"dataframe\">\n",
       "  <thead>\n",
       "    <tr style=\"text-align: right;\">\n",
       "      <th></th>\n",
       "      <th>actual</th>\n",
       "      <th>predicted</th>\n",
       "    </tr>\n",
       "  </thead>\n",
       "  <tbody>\n",
       "    <tr>\n",
       "      <th>0</th>\n",
       "      <td>0</td>\n",
       "      <td>-1</td>\n",
       "    </tr>\n",
       "    <tr>\n",
       "      <th>1</th>\n",
       "      <td>0</td>\n",
       "      <td>0</td>\n",
       "    </tr>\n",
       "    <tr>\n",
       "      <th>2</th>\n",
       "      <td>0</td>\n",
       "      <td>17</td>\n",
       "    </tr>\n",
       "    <tr>\n",
       "      <th>3</th>\n",
       "      <td>0</td>\n",
       "      <td>0</td>\n",
       "    </tr>\n",
       "    <tr>\n",
       "      <th>4</th>\n",
       "      <td>0</td>\n",
       "      <td>-1</td>\n",
       "    </tr>\n",
       "    <tr>\n",
       "      <th>...</th>\n",
       "      <td>...</td>\n",
       "      <td>...</td>\n",
       "    </tr>\n",
       "    <tr>\n",
       "      <th>74495</th>\n",
       "      <td>25</td>\n",
       "      <td>25</td>\n",
       "    </tr>\n",
       "    <tr>\n",
       "      <th>74496</th>\n",
       "      <td>25</td>\n",
       "      <td>25</td>\n",
       "    </tr>\n",
       "    <tr>\n",
       "      <th>74497</th>\n",
       "      <td>25</td>\n",
       "      <td>25</td>\n",
       "    </tr>\n",
       "    <tr>\n",
       "      <th>74498</th>\n",
       "      <td>25</td>\n",
       "      <td>25</td>\n",
       "    </tr>\n",
       "    <tr>\n",
       "      <th>74499</th>\n",
       "      <td>25</td>\n",
       "      <td>25</td>\n",
       "    </tr>\n",
       "  </tbody>\n",
       "</table>\n",
       "<p>74500 rows × 2 columns</p>\n",
       "</div>"
      ],
      "text/plain": [
       "       actual  predicted\n",
       "0           0         -1\n",
       "1           0          0\n",
       "2           0         17\n",
       "3           0          0\n",
       "4           0         -1\n",
       "...       ...        ...\n",
       "74495      25         25\n",
       "74496      25         25\n",
       "74497      25         25\n",
       "74498      25         25\n",
       "74499      25         25\n",
       "\n",
       "[74500 rows x 2 columns]"
      ]
     },
     "execution_count": 26,
     "metadata": {},
     "output_type": "execute_result"
    }
   ],
   "source": [
    "d"
   ]
  },
  {
   "cell_type": "code",
   "execution_count": null,
   "id": "59f80dd4",
   "metadata": {},
   "outputs": [],
   "source": [
    "model.flushnn()"
   ]
  }
 ],
 "metadata": {
  "kernelspec": {
   "display_name": "Python 3",
   "language": "python",
   "name": "python3"
  },
  "language_info": {
   "codemirror_mode": {
    "name": "ipython",
    "version": 3
   },
   "file_extension": ".py",
   "mimetype": "text/x-python",
   "name": "python",
   "nbconvert_exporter": "python",
   "pygments_lexer": "ipython3",
   "version": "3.8.8"
  }
 },
 "nbformat": 4,
 "nbformat_minor": 5
}
