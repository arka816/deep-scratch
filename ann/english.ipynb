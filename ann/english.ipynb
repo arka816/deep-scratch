{
 "cells": [
  {
   "cell_type": "code",
   "execution_count": 1,
   "id": "e71f21a5",
   "metadata": {},
   "outputs": [],
   "source": [
    "%reload_ext autoreload\n",
    "%autoreload 2"
   ]
  },
  {
   "cell_type": "code",
   "execution_count": 2,
   "id": "ac2d3c7e",
   "metadata": {},
   "outputs": [],
   "source": [
    "import pandas as pd\n",
    "import numpy as np\n",
    "import matplotlib.pyplot as plt\n",
    "import os\n",
    "import matplotlib\n",
    "from sklearn.model_selection import train_test_split\n",
    "import network\n",
    "# import cupy as cp"
   ]
  },
  {
   "cell_type": "code",
   "execution_count": 3,
   "id": "85589e1a",
   "metadata": {},
   "outputs": [],
   "source": [
    "df = pd.read_csv(\"../samples/A_Z Handwritten Data.csv\")"
   ]
  },
  {
   "cell_type": "code",
   "execution_count": 4,
   "id": "fad83eb0",
   "metadata": {},
   "outputs": [],
   "source": [
    "image_size = 28\n",
    "\n",
    "def vec2img(v):\n",
    "    index = v[0]\n",
    "    img = np.array(v[1:]).reshape(image_size, image_size)\n",
    "    plt.imshow(img)\n",
    "    plt.show()\n",
    "    return chr(index + 97), img"
   ]
  },
  {
   "cell_type": "code",
   "execution_count": null,
   "id": "d0d36b67",
   "metadata": {},
   "outputs": [],
   "source": [
    "parent_dir = \"C:\\\\github\\\\deep-scratch\\\\samples\\\\english\"\n",
    "\n",
    "index = 1\n",
    "lastc = None\n",
    "\n",
    "for _, row in df.iterrows():\n",
    "    c, img = vec2img(row)\n",
    "    if c!= lastc:\n",
    "        index = 1\n",
    "    try:\n",
    "        os.mkdir(os.path.join(parent_dir, c))\n",
    "    except:\n",
    "        pass\n",
    "    \n",
    "    path = os.path.join(parent_dir, c, f\"{index}.jpg\")\n",
    "    matplotlib.image.imsave(path, img, cmap='gray')\n",
    "    index += 1\n",
    "    lastc = c"
   ]
  },
  {
   "cell_type": "code",
   "execution_count": 5,
   "id": "987ead93",
   "metadata": {},
   "outputs": [],
   "source": [
    "df_train = pd.DataFrame()\n",
    "df_test = pd.DataFrame()\n",
    "\n",
    "for c in range(26):\n",
    "    train, test = train_test_split(df[df['0'] == c], test_size=0.2, shuffle=True)\n",
    "    df_train = df_train.append(train, ignore_index=True)\n",
    "    df_test = df_test.append(test, ignore_index=True)\n",
    "    \n",
    "del df\n",
    "df_train = df_train.sample(frac = 1).reset_index(drop=True)"
   ]
  },
  {
   "cell_type": "code",
   "execution_count": 6,
   "id": "63a01c47",
   "metadata": {},
   "outputs": [
    {
     "data": {
      "text/plain": [
       "(297950, 784)"
      ]
     },
     "execution_count": 6,
     "metadata": {},
     "output_type": "execute_result"
    }
   ],
   "source": [
    "X_train = df_train[df_train.columns[1:]].to_numpy()\n",
    "X_train.shape"
   ]
  },
  {
   "cell_type": "code",
   "execution_count": 7,
   "id": "35ab4786",
   "metadata": {},
   "outputs": [],
   "source": [
    "y_train = df_train[df_train.columns[0]].values.astype(np.int32)\n",
    "y_train = np.array([np.array([0] * i + [1] + [0] * (25 - i)) for i in y_train])\n",
    "y_train.shape\n",
    "\n",
    "del df_train"
   ]
  },
  {
   "cell_type": "code",
   "execution_count": 8,
   "id": "217f73c5",
   "metadata": {},
   "outputs": [],
   "source": [
    "model = network.Network(inputDim=image_size ** 2, intializationScheme='glorot-uniform')\n",
    "model.addLayer(dim = 300, activation='sigmoid')\n",
    "model.addLayer(dim = 26, activation='softmax')\n",
    "model.compile(loss='cat-crossentropy', optimizer='gd', batch_type=\"mbgd\", batch_size=500)"
   ]
  },
  {
   "cell_type": "code",
   "execution_count": 9,
   "id": "f5457a0e",
   "metadata": {},
   "outputs": [
    {
     "name": "stdout",
     "output_type": "stream",
     "text": [
      "Epoch 1: calculated loss = 0.875029076623 | calculated accuracy = 0.77984\n",
      "Epoch 2: calculated loss = 0.473917340471 | calculated accuracy = 0.87896\n",
      "Epoch 3: calculated loss = 0.386671967105 | calculated accuracy = 0.90077\n",
      "Epoch 4: calculated loss = 0.338019543184 | calculated accuracy = 0.91248\n",
      "Epoch 5: calculated loss = 0.303871968341 | calculated accuracy = 0.92160\n",
      "Epoch 6: calculated loss = 0.278349818547 | calculated accuracy = 0.92825\n",
      "Epoch 7: calculated loss = 0.258735152765 | calculated accuracy = 0.93315\n",
      "Epoch 8: calculated loss = 0.242944746443 | calculated accuracy = 0.93738\n",
      "Epoch 9: calculated loss = 0.228442397010 | calculated accuracy = 0.94118\n",
      "Epoch 10: calculated loss = 0.216529844188 | calculated accuracy = 0.94460\n",
      "Epoch 11: calculated loss = 0.207380153849 | calculated accuracy = 0.94672\n",
      "Epoch 12: calculated loss = 0.199027125623 | calculated accuracy = 0.94906\n",
      "Epoch 13: calculated loss = 0.190491453460 | calculated accuracy = 0.95150\n",
      "Epoch 14: calculated loss = 0.182261724531 | calculated accuracy = 0.95349\n",
      "Epoch 15: calculated loss = 0.177544436257 | calculated accuracy = 0.95472\n",
      "Epoch 16: calculated loss = 0.172172021738 | calculated accuracy = 0.95602\n",
      "Epoch 17: calculated loss = 0.166185929806 | calculated accuracy = 0.95708\n",
      "Epoch 18: calculated loss = 0.162159270717 | calculated accuracy = 0.95834\n",
      "Epoch 19: calculated loss = 0.157511858595 | calculated accuracy = 0.95942\n",
      "Epoch 20: calculated loss = 0.153694655988 | calculated accuracy = 0.96045\n",
      "Epoch 21: calculated loss = 0.151234947322 | calculated accuracy = 0.96104\n",
      "Epoch 22: calculated loss = 0.146623027002 | calculated accuracy = 0.96200\n",
      "Epoch 23: calculated loss = 0.143816754613 | calculated accuracy = 0.96316\n",
      "Epoch 24: calculated loss = 0.140808662068 | calculated accuracy = 0.96376\n",
      "Epoch 25: calculated loss = 0.137329680791 | calculated accuracy = 0.96462\n",
      "Epoch 26: calculated loss = 0.133608794397 | calculated accuracy = 0.96547\n",
      "Epoch 27: calculated loss = 0.131343045705 | calculated accuracy = 0.96623\n",
      "Epoch 28: calculated loss = 0.127920530032 | calculated accuracy = 0.96710\n",
      "Epoch 29: calculated loss = 0.125740564466 | calculated accuracy = 0.96745\n",
      "Epoch 30: calculated loss = 0.123640693452 | calculated accuracy = 0.96818\n",
      "Epoch 31: calculated loss = 0.121696923138 | calculated accuracy = 0.96870\n",
      "Epoch 32: calculated loss = 0.119553571812 | calculated accuracy = 0.96931\n",
      "Epoch 33: calculated loss = 0.117057303782 | calculated accuracy = 0.96997\n",
      "Epoch 34: calculated loss = 0.114792427128 | calculated accuracy = 0.97014\n",
      "Epoch 35: calculated loss = 0.112470926792 | calculated accuracy = 0.97110\n",
      "Epoch 36: calculated loss = 0.111458235406 | calculated accuracy = 0.97120\n",
      "Epoch 37: calculated loss = 0.108549444130 | calculated accuracy = 0.97215\n",
      "Epoch 38: calculated loss = 0.106966007952 | calculated accuracy = 0.97258\n",
      "Epoch 39: calculated loss = 0.106651194508 | calculated accuracy = 0.97272\n",
      "Epoch 40: calculated loss = 0.106255447286 | calculated accuracy = 0.97291\n",
      "Epoch 41: calculated loss = 0.103076977266 | calculated accuracy = 0.97351\n",
      "Epoch 42: calculated loss = 0.102204065345 | calculated accuracy = 0.97362\n",
      "Epoch 43: calculated loss = 0.099529597963 | calculated accuracy = 0.97458\n",
      "Epoch 44: calculated loss = 0.098531053536 | calculated accuracy = 0.97478\n",
      "Epoch 45: calculated loss = 0.097492652401 | calculated accuracy = 0.97517\n",
      "Epoch 46: calculated loss = 0.096101032311 | calculated accuracy = 0.97545\n",
      "Epoch 47: calculated loss = 0.094037965266 | calculated accuracy = 0.97609\n",
      "Epoch 48: calculated loss = 0.093004952347 | calculated accuracy = 0.97639\n",
      "Epoch 49: calculated loss = 0.091566710207 | calculated accuracy = 0.97692\n",
      "Epoch 50: calculated loss = 0.091299466238 | calculated accuracy = 0.97668\n",
      "Epoch 51: calculated loss = 0.089980269015 | calculated accuracy = 0.97705\n",
      "Epoch 52: calculated loss = 0.088407562542 | calculated accuracy = 0.97747\n",
      "Epoch 53: calculated loss = 0.088504498949 | calculated accuracy = 0.97788\n",
      "Epoch 54: calculated loss = 0.086538753178 | calculated accuracy = 0.97809\n",
      "Epoch 55: calculated loss = 0.086696686876 | calculated accuracy = 0.97791\n",
      "Epoch 56: calculated loss = 0.084336663104 | calculated accuracy = 0.97887\n",
      "Epoch 57: calculated loss = 0.083015792702 | calculated accuracy = 0.97902\n",
      "Epoch 58: calculated loss = 0.082468233929 | calculated accuracy = 0.97915\n",
      "Epoch 59: calculated loss = 0.081556704695 | calculated accuracy = 0.97947\n",
      "Epoch 60: calculated loss = 0.080347549999 | calculated accuracy = 0.97969\n",
      "Epoch 61: calculated loss = 0.078099935389 | calculated accuracy = 0.98065\n",
      "Epoch 62: calculated loss = 0.077278383758 | calculated accuracy = 0.98074\n",
      "Epoch 63: calculated loss = 0.075485665589 | calculated accuracy = 0.98155\n",
      "Epoch 64: calculated loss = 0.075816679520 | calculated accuracy = 0.98122\n",
      "Epoch 65: calculated loss = 0.073412543999 | calculated accuracy = 0.98233\n",
      "Epoch 66: calculated loss = 0.072869401679 | calculated accuracy = 0.98202\n",
      "Epoch 67: calculated loss = 0.072066577767 | calculated accuracy = 0.98235\n",
      "Epoch 68: calculated loss = 0.071107407020 | calculated accuracy = 0.98249\n",
      "Epoch 69: calculated loss = 0.070792500777 | calculated accuracy = 0.98240\n",
      "Epoch 70: calculated loss = 0.070367348699 | calculated accuracy = 0.98254\n",
      "Epoch 71: calculated loss = 0.071114907101 | calculated accuracy = 0.98217\n",
      "Epoch 72: calculated loss = 0.069889032720 | calculated accuracy = 0.98255\n",
      "Epoch 73: calculated loss = 0.069195926379 | calculated accuracy = 0.98263\n",
      "Epoch 74: calculated loss = 0.069075469313 | calculated accuracy = 0.98301\n",
      "Epoch 75: calculated loss = 0.067226880470 | calculated accuracy = 0.98359\n",
      "Epoch 76: calculated loss = 0.065856483691 | calculated accuracy = 0.98388\n",
      "Epoch 77: calculated loss = 0.064733820732 | calculated accuracy = 0.98421\n",
      "Epoch 78: calculated loss = 0.064673800604 | calculated accuracy = 0.98419\n",
      "Epoch 79: calculated loss = 0.065000237277 | calculated accuracy = 0.98397\n",
      "Epoch 80: calculated loss = 0.063947719194 | calculated accuracy = 0.98451\n",
      "Epoch 81: calculated loss = 0.063528630327 | calculated accuracy = 0.98443\n",
      "Epoch 82: calculated loss = 0.062678669227 | calculated accuracy = 0.98463\n",
      "Epoch 83: calculated loss = 0.061574154868 | calculated accuracy = 0.98505\n",
      "Epoch 84: calculated loss = 0.061026078385 | calculated accuracy = 0.98512\n",
      "Epoch 85: calculated loss = 0.059808736878 | calculated accuracy = 0.98572\n",
      "Epoch 86: calculated loss = 0.059639922429 | calculated accuracy = 0.98566\n",
      "Epoch 87: calculated loss = 0.058297654282 | calculated accuracy = 0.98592\n",
      "Epoch 88: calculated loss = 0.057317233118 | calculated accuracy = 0.98633\n",
      "Epoch 89: calculated loss = 0.057354423809 | calculated accuracy = 0.98613\n",
      "Epoch 90: calculated loss = 0.056935182384 | calculated accuracy = 0.98638\n",
      "Epoch 91: calculated loss = 0.056770769840 | calculated accuracy = 0.98628\n",
      "Epoch 92: calculated loss = 0.056640019440 | calculated accuracy = 0.98629\n",
      "Epoch 93: calculated loss = 0.054291692232 | calculated accuracy = 0.98725\n",
      "Epoch 94: calculated loss = 0.053700661387 | calculated accuracy = 0.98746\n",
      "Epoch 95: calculated loss = 0.053008201764 | calculated accuracy = 0.98763\n",
      "Epoch 96: calculated loss = 0.052969456164 | calculated accuracy = 0.98759\n",
      "Epoch 97: calculated loss = 0.053058845595 | calculated accuracy = 0.98760\n",
      "Epoch 98: calculated loss = 0.051971849967 | calculated accuracy = 0.98792\n",
      "Epoch 99: calculated loss = 0.051419445510 | calculated accuracy = 0.98799\n",
      "Epoch 100: calculated loss = 0.051140477515 | calculated accuracy = 0.98815\n"
     ]
    },
    {
     "data": {
      "image/png": "[encoded data removed]",
      "text/plain": [
       "<Figure size 640x480 with 1 Axes>"
      ]
     },
     "metadata": {},
     "output_type": "display_data"
    },
    {
     "data": {
      "image/png": "[encoded data removed]",
      "text/plain": [
       "<Figure size 640x480 with 1 Axes>"
      ]
     },
     "metadata": {},
     "output_type": "display_data"
    }
   ],
   "source": [
    "model.train(X_train.T, y_train.T, alpha=0.05, epochs = 100)\n",
    "del X_train\n",
    "del y_train"
   ]
  },
  {
   "cell_type": "code",
   "execution_count": 10,
   "id": "98179f98",
   "metadata": {},
   "outputs": [
    {
     "data": {
      "text/plain": [
       "(74500, 784)"
      ]
     },
     "execution_count": 10,
     "metadata": {},
     "output_type": "execute_result"
    }
   ],
   "source": [
    "X_test = df_test[df_test.columns[1:]].to_numpy()\n",
    "X_test.shape"
   ]
  },
  {
   "cell_type": "code",
   "execution_count": 11,
   "id": "f9de5b0f",
   "metadata": {},
   "outputs": [
    {
     "data": {
      "text/plain": [
       "(74500, 26)"
      ]
     },
     "execution_count": 11,
     "metadata": {},
     "output_type": "execute_result"
    }
   ],
   "source": [
    "y_test = df_test[df_test.columns[0]].values.astype(np.int32)\n",
    "y_test = np.array([np.array([0] * i + [1] + [0] * (25 - i)) for i in y_test])\n",
    "y_test.shape"
   ]
  },
  {
   "cell_type": "code",
   "execution_count": 12,
   "id": "5719a79f",
   "metadata": {},
   "outputs": [],
   "source": [
    "del df_test"
   ]
  },
  {
   "cell_type": "code",
   "execution_count": 32,
   "id": "24e98343",
   "metadata": {},
   "outputs": [
    {
     "name": "stdout",
     "output_type": "stream",
     "text": [
      "testing accuracy on english letter dataset: 97.78%\n"
     ]
    }
   ],
   "source": [
    "pred, accuracy = model.predict(X_test.T, y_test.T)\n",
    "print(f\"testing accuracy on english letter dataset: {100 * accuracy:.2f}%\")"
   ]
  },
  {
   "cell_type": "code",
   "execution_count": 20,
   "id": "fe5bf98d",
   "metadata": {},
   "outputs": [],
   "source": [
    "d = pd.DataFrame()\n",
    "d[\"actual\"] = np.where(y_test == 1)[1]\n",
    "v = []\n",
    "for p in pred.T:\n",
    "    if 1 in p:\n",
    "        v.append(np.where(p == 1)[0][0])\n",
    "    else:\n",
    "        v.append(-1)\n",
    "d[\"predicted\"] = np.array(v).astype(np.int)"
   ]
  },
  {
   "cell_type": "code",
   "execution_count": 26,
   "id": "99d143c0",
   "metadata": {},
   "outputs": [
    {
     "data": {
      "text/plain": [
       "97.77718120805369"
      ]
     },
     "execution_count": 26,
     "metadata": {},
     "output_type": "execute_result"
    }
   ],
   "source": [
    "d[d['actual']==d['predicted']].count()['actual'] / d['actual'].count() * 100"
   ]
  },
  {
   "cell_type": "code",
   "execution_count": 27,
   "id": "69c99fff",
   "metadata": {},
   "outputs": [
    {
     "name": "stdout",
     "output_type": "stream",
     "text": [
      "neural network flushed to english.json\n"
     ]
    }
   ],
   "source": [
    "model.flushnn(filename='english.json')"
   ]
  },
  {
   "cell_type": "code",
   "execution_count": null,
   "id": "198742a4",
   "metadata": {},
   "outputs": [],
   "source": [
    "del d"
   ]
  },
  {
   "cell_type": "code",
   "execution_count": 33,
   "id": "86dd5fc3",
   "metadata": {},
   "outputs": [],
   "source": [
    "del model"
   ]
  },
  {
   "cell_type": "code",
   "execution_count": 34,
   "id": "bcd9e827",
   "metadata": {},
   "outputs": [],
   "source": [
    "del pred"
   ]
  }
 ],
 "metadata": {
  "kernelspec": {
   "display_name": "Python 3",
   "language": "python",
   "name": "python3"
  },
  "language_info": {
   "codemirror_mode": {
    "name": "ipython",
    "version": 3
   },
   "file_extension": ".py",
   "mimetype": "text/x-python",
   "name": "python",
   "nbconvert_exporter": "python",
   "pygments_lexer": "ipython3",
   "version": "3.8.8"
  }
 },
 "nbformat": 4,
 "nbformat_minor": 5
}
